{
    "cells": [
        {
            "cell_type": "code",
            "execution_count": 5,
            "metadata": {},
            "outputs": [],
            "source": "import pandas as pd"
        },
        {
            "cell_type": "code",
            "execution_count": 6,
            "metadata": {},
            "outputs": [],
            "source": "#import the dataframe\ndf = pd.read_csv(\"https://cf-courses-data.s3.us.cloud-object-storage.appdomain.cloud/IBM-DS0321EN-SkillsNetwork/datasets/spacex_launch_dash.csv\")"
        },
        {
            "cell_type": "code",
            "execution_count": 7,
            "metadata": {},
            "outputs": [
                {
                    "data": {
                        "text/plain": "array(['CCAFS LC-40', 'VAFB SLC-4E', 'KSC LC-39A', 'CCAFS SLC-40'],\n      dtype=object)"
                    },
                    "execution_count": 7,
                    "metadata": {},
                    "output_type": "execute_result"
                }
            ],
            "source": "#let's make sure we have all of the unique launch sites\npd.unique(df['Launch Site'])"
        },
        {
            "cell_type": "markdown",
            "metadata": {},
            "source": "<h3>challenge 1</h3>"
        },
        {
            "cell_type": "code",
            "execution_count": 9,
            "metadata": {
                "scrolled": true
            },
            "outputs": [
                {
                    "name": "stdout",
                    "output_type": "stream",
                    "text": "Dash is running on http://127.0.0.1:8050/\n\nDash is running on http://127.0.0.1:8050/\n\n * Serving Flask app \"__main__\" (lazy loading)\n * Environment: production\n   WARNING: This is a development server. Do not use it in a production deployment.\n   Use a production WSGI server instead.\n * Debug mode: off\n"
                },
                {
                    "name": "stderr",
                    "output_type": "stream",
                    "text": " * Running on http://127.0.0.1:8050/ (Press CTRL+C to quit)\n"
                }
            ],
            "source": "# Import required libraries\nimport pandas as pd\nimport dash\nimport dash_html_components as html\nimport dash_core_components as dcc\nfrom dash.dependencies import Input, Output\nimport plotly.express as px\n\n# Read the airline data into pandas dataframe\nspacex_df = pd.read_csv(\"https://cf-courses-data.s3.us.cloud-object-storage.appdomain.cloud/IBM-DS0321EN-SkillsNetwork/datasets/spacex_launch_dash.csv\")\nmax_payload = spacex_df['Payload Mass (kg)'].max()\nmin_payload = spacex_df['Payload Mass (kg)'].min()\n\n# Create a dash application\napp = dash.Dash(__name__)\n\n# Create an app layout\napp.layout = html.Div(children=[html.H1('SpaceX Launch Records Dashboard',\n                                        style={'textAlign': 'center', 'color': '#503D36',\n                                               'font-size': 40}),\n                                # TASK 1: Add a dropdown list to enable Launch Site selection\n                                # The default select value is for ALL sites\n                                dcc.Dropdown(\n                                    id='site-dropdown',\n                                    options=[\n                                       {'label':'All Sites', 'value':'ALL'},\n                                       {'label':'CCAFS LC-40', 'value':'CCAFS LC-40'},\n                                       {'label':'VAFB SLC-4E', 'value':'VAFB SLC-4E'},\n                                       {'label':'KSC LC-39A', 'value':'KSC LC-39A'},\n                                       {'label':'CCAFS SLC-40', 'value':'CCAFS SLC-40'} \n                                    ],\n                                    value = 'ALL',\n                                    placeholder = \"Select a launch site here\",\n                                    searchable = True),\n                                html.Br(),\n\n                                # TASK 2: Add a pie chart to show the total successful launches count for all sites\n                                # If a specific launch site was selected, show the Success vs. Failed counts for the site\n                                html.Div(dcc.Graph(id='success-pie-chart')),\n                                html.Br(),\n\n                                html.P(\"Payload range (Kg):\"),\n                                # TASK 3: Add a slider to select payload range\n                                #dcc.RangeSlider(id='payload-slider',...)\n\n                                # TASK 4: Add a scatter chart to show the correlation between payload and launch success\n                                html.Div(dcc.Graph(id='success-payload-scatter-chart')),\n                                ])\n\n# TASK 2:\n# Add a callback function for `site-dropdown` as input, `success-pie-chart` as output\n\n# TASK 4:\n# Add a callback function for `site-dropdown` and `payload-slider` as inputs, `success-payload-scatter-chart` as output\n\n\n# Run the app\nif __name__ == '__main__':\n    app.run_server()\n"
        },
        {
            "cell_type": "markdown",
            "metadata": {},
            "source": "<h3>challenge 2</h3>"
        },
        {
            "cell_type": "code",
            "execution_count": 14,
            "metadata": {},
            "outputs": [
                {
                    "name": "stdout",
                    "output_type": "stream",
                    "text": "Dash is running on http://127.0.0.1:8050/\n\nDash is running on http://127.0.0.1:8050/\n\nDash is running on http://127.0.0.1:8050/\n\nDash is running on http://127.0.0.1:8050/\n\nDash is running on http://127.0.0.1:8050/\n\nDash is running on http://127.0.0.1:8050/\n\n * Serving Flask app \"__main__\" (lazy loading)\n * Environment: production\n   WARNING: This is a development server. Do not use it in a production deployment.\n   Use a production WSGI server instead.\n * Debug mode: off\n"
                },
                {
                    "name": "stderr",
                    "output_type": "stream",
                    "text": " * Running on http://127.0.0.1:8050/ (Press CTRL+C to quit)\n127.0.0.1 - - [21/Jan/2022 18:39:01] \"\u001b[37mGET / HTTP/1.1\u001b[0m\" 200 -\n127.0.0.1 - - [21/Jan/2022 18:39:01] \"\u001b[37mGET /_dash-layout HTTP/1.1\u001b[0m\" 200 -\n127.0.0.1 - - [21/Jan/2022 18:39:01] \"\u001b[37mGET /_dash-dependencies HTTP/1.1\u001b[0m\" 200 -\n127.0.0.1 - - [21/Jan/2022 18:39:01] \"\u001b[37mGET /_dash-component-suites/dash_core_components/async-graph.js HTTP/1.1\u001b[0m\" 200 -\n127.0.0.1 - - [21/Jan/2022 18:39:01] \"\u001b[37mPOST /_dash-update-component HTTP/1.1\u001b[0m\" 200 -\n127.0.0.1 - - [21/Jan/2022 18:39:01] \"\u001b[37mGET /_dash-component-suites/dash_core_components/async-dropdown.js HTTP/1.1\u001b[0m\" 200 -\n127.0.0.1 - - [21/Jan/2022 18:39:01] \"\u001b[37mGET /_dash-component-suites/dash_core_components/async-plotlyjs.js HTTP/1.1\u001b[0m\" 200 -\n"
                }
            ],
            "source": "# Import required libraries\nimport pandas as pd\nimport dash\nimport dash_html_components as html\nimport dash_core_components as dcc\nfrom dash.dependencies import Input, Output\nimport plotly.express as px\n\n# Read the airline data into pandas dataframe\nspacex_df = pd.read_csv(\"https://cf-courses-data.s3.us.cloud-object-storage.appdomain.cloud/IBM-DS0321EN-SkillsNetwork/datasets/spacex_launch_dash.csv\")\nmax_payload = spacex_df['Payload Mass (kg)'].max()\nmin_payload = spacex_df['Payload Mass (kg)'].min()\n\n# Create a dash application\napp = dash.Dash(__name__)\n\n# Create an app layout\napp.layout = html.Div(children=[html.H1('SpaceX Launch Records Dashboard',\n                                        style={'textAlign': 'center', 'color': '#503D36',\n                                               'font-size': 40}),\n                                # TASK 1: Add a dropdown list to enable Launch Site selection\n                                # The default select value is for ALL sites\n                                dcc.Dropdown(\n                                    id='site-dropdown',\n                                    options=[{'value': x, 'label': x}\n                                            for x in ['All Sites','CCAFS LC-40','VAFB SLC-4E','KSC LC-39A','CCAFS SLC-40']],\n                                    value = 'All Sites',\n                                    placeholder = \"Select a launch site here\",\n                                    searchable = True),\n                                html.Br(),\n\n                                # TASK 2: Add a pie chart to show the total successful launches count for all sites\n                                # If a specific launch site was selected, show the Success vs. Failed counts for the site\n                                html.Div(dcc.Graph(id='success-pie-chart')),\n                                html.Br(),\n\n                                html.P(\"Payload range (Kg):\"),\n                                # TASK 3: Add a slider to select payload range\n                                #dcc.RangeSlider(id='payload-slider',...)\n\n                                # TASK 4: Add a scatter chart to show the correlation between payload and launch success\n                                html.Div(dcc.Graph(id='success-payload-scatter-chart')),\n                                ])\n\n# TASK 2:\n# Add a callback function for `site-dropdown` as input, `success-pie-chart` as output\n@app.callback(Output(component_id='success-pie-chart', component_property='figure'),\n              Input(component_id='site-dropdown', component_property='value'))\ndef get_pie_chart(entered_site):\n    filtered_df = spacex_df\n    if entered_site == 'All Sites':\n        fig = px.pie(spacex_df, values='class', \n        names='Launch Site', \n        title='Success of all launch Sites')\n        return fig\n    else:\n        # return the outcomes piechart for a selected site\n        filtered_df = spacex_df[spacex_df['Launch Site'] == entered_site]\n        filtered_df = filtered_df['class'].value_counts().to_frame().reset_index()\n        fig = px.pie(filtered_df, values = 'class', \n        names ='index', \n        title='Success of Chosen Launch Site: '+ str(entered_site))\n        return fig\n\n# TASK 4:\n# Add a callback function for `site-dropdown` and `payload-slider` as inputs, `success-payload-scatter-chart` as output\n\n\n# Run the app\nif __name__ == '__main__':\n    app.run_server()\n"
        },
        {
            "cell_type": "markdown",
            "metadata": {},
            "source": "<h3>challenge 3</h3>"
        },
        {
            "cell_type": "code",
            "execution_count": 22,
            "metadata": {},
            "outputs": [
                {
                    "name": "stdout",
                    "output_type": "stream",
                    "text": "Dash is running on http://127.0.0.1:8050/\n\nDash is running on http://127.0.0.1:8050/\n\nDash is running on http://127.0.0.1:8050/\n\nDash is running on http://127.0.0.1:8050/\n\nDash is running on http://127.0.0.1:8050/\n\nDash is running on http://127.0.0.1:8050/\n\nDash is running on http://127.0.0.1:8050/\n\nDash is running on http://127.0.0.1:8050/\n\nDash is running on http://127.0.0.1:8050/\n\nDash is running on http://127.0.0.1:8050/\n\nDash is running on http://127.0.0.1:8050/\n\nDash is running on http://127.0.0.1:8050/\n\n * Serving Flask app \"__main__\" (lazy loading)\n * Environment: production\n   WARNING: This is a development server. Do not use it in a production deployment.\n   Use a production WSGI server instead.\n * Debug mode: off\n"
                },
                {
                    "name": "stderr",
                    "output_type": "stream",
                    "text": " * Running on http://127.0.0.1:8050/ (Press CTRL+C to quit)\n127.0.0.1 - - [21/Jan/2022 19:06:16] \"\u001b[37mGET / HTTP/1.1\u001b[0m\" 200 -\n127.0.0.1 - - [21/Jan/2022 19:06:17] \"\u001b[37mGET /_dash-layout HTTP/1.1\u001b[0m\" 200 -\n127.0.0.1 - - [21/Jan/2022 19:06:17] \"\u001b[37mGET /_dash-dependencies HTTP/1.1\u001b[0m\" 200 -\n127.0.0.1 - - [21/Jan/2022 19:06:17] \"\u001b[37mGET /_dash-component-suites/dash_core_components/async-graph.js HTTP/1.1\u001b[0m\" 200 -\n127.0.0.1 - - [21/Jan/2022 19:06:17] \"\u001b[37mGET /_dash-component-suites/dash_core_components/async-dropdown.js HTTP/1.1\u001b[0m\" 200 -\n127.0.0.1 - - [21/Jan/2022 19:06:17] \"\u001b[37mGET /_dash-component-suites/dash_core_components/async-slider.js HTTP/1.1\u001b[0m\" 200 -\n127.0.0.1 - - [21/Jan/2022 19:06:17] \"\u001b[37mPOST /_dash-update-component HTTP/1.1\u001b[0m\" 200 -\n127.0.0.1 - - [21/Jan/2022 19:06:17] \"\u001b[37mGET /_dash-component-suites/dash_core_components/async-plotlyjs.js HTTP/1.1\u001b[0m\" 200 -\n127.0.0.1 - - [21/Jan/2022 19:06:20] \"\u001b[37mPOST /_dash-update-component HTTP/1.1\u001b[0m\" 200 -\n127.0.0.1 - - [21/Jan/2022 19:06:22] \"\u001b[37mPOST /_dash-update-component HTTP/1.1\u001b[0m\" 200 -\n"
                }
            ],
            "source": "# Import required libraries\nimport pandas as pd\nimport dash\nimport dash_html_components as html\nimport dash_core_components as dcc\nfrom dash.dependencies import Input, Output\nimport plotly.express as px\n\n# Read the airline data into pandas dataframe\nspacex_df = pd.read_csv(\"https://cf-courses-data.s3.us.cloud-object-storage.appdomain.cloud/IBM-DS0321EN-SkillsNetwork/datasets/spacex_launch_dash.csv\")\nmax_payload = spacex_df['Payload Mass (kg)'].max()\nmin_payload = spacex_df['Payload Mass (kg)'].min()\n\n# Create a dash application\napp = dash.Dash(__name__)\n\n# Create an app layout\napp.layout = html.Div(children=[html.H1('SpaceX Launch Records Dashboard',\n                                        style={'textAlign': 'center', 'color': '#503D36',\n                                               'font-size': 40}),\n                                # TASK 1: Add a dropdown list to enable Launch Site selection\n                                # The default select value is for ALL sites\n                                dcc.Dropdown(\n                                    id='site-dropdown',\n                                    options=[{'value': x, 'label': x}\n                                            for x in ['All Sites','CCAFS LC-40','VAFB SLC-4E','KSC LC-39A','CCAFS SLC-40']],\n                                    value = 'All Sites',\n                                    placeholder = \"Select a launch site here\",\n                                    searchable = True),\n                                html.Br(),\n\n                                # TASK 2: Add a pie chart to show the total successful launches count for all sites\n                                # If a specific launch site was selected, show the Success vs. Failed counts for the site\n                                html.Div(dcc.Graph(id='success-pie-chart')),\n                                html.Br(),\n\n                                html.P(\"Payload range (Kg):\"),\n                                # TASK 3: Add a slider to select payload range\n                                #dcc.RangeSlider(id='payload-slider',...)\n                                dcc.RangeSlider(\n                                    id='id',\n                                    min=0, \n                                    max=10000, \n                                    step=1000,\n                                    marks={0: '0',\n                                           2500: '2,500',\n                                           5000: '5,000',\n                                           7500: '7,500',\n                                           10000: '10,000'},\n                                    value=[min_payload, max_payload]),\n\n                                # TASK 4: Add a scatter chart to show the correlation between payload and launch success\n                                html.Div(dcc.Graph(id='success-payload-scatter-chart')),\n                                ])\n\n# TASK 2:\n# Add a callback function for `site-dropdown` as input, `success-pie-chart` as output\n@app.callback(Output(component_id='success-pie-chart', component_property='figure'),\n              Input(component_id='site-dropdown', component_property='value'))\ndef get_pie_chart(entered_site):\n    filtered_df = spacex_df\n    if entered_site == 'All Sites':\n        fig = px.pie(spacex_df, values='class', \n        names='Launch Site', \n        title='Success of all launch Sites')\n        return fig\n    else:\n        # return the outcomes piechart for a selected site\n        filtered_df = spacex_df[spacex_df['Launch Site'] == entered_site]\n        filtered_df = filtered_df['class'].value_counts().to_frame().reset_index()\n        fig = px.pie(filtered_df, values = 'class', \n        names ='index', \n        title='Success Breakdown of Launch Site: ' + str(entered_site))\n        return fig\n\n# TASK 4:\n# Add a callback function for `site-dropdown` and `payload-slider` as inputs, `success-payload-scatter-chart` as output\n\n\n# Run the app\nif __name__ == '__main__':\n    app.run_server()\n"
        },
        {
            "cell_type": "markdown",
            "metadata": {},
            "source": "<h3>challenge 4</h3>"
        },
        {
            "cell_type": "code",
            "execution_count": null,
            "metadata": {},
            "outputs": [
                {
                    "name": "stdout",
                    "output_type": "stream",
                    "text": "Dash is running on http://127.0.0.1:8050/\n\nDash is running on http://127.0.0.1:8050/\n\nDash is running on http://127.0.0.1:8050/\n\nDash is running on http://127.0.0.1:8050/\n\nDash is running on http://127.0.0.1:8050/\n\nDash is running on http://127.0.0.1:8050/\n\nDash is running on http://127.0.0.1:8050/\n\nDash is running on http://127.0.0.1:8050/\n\nDash is running on http://127.0.0.1:8050/\n\nDash is running on http://127.0.0.1:8050/\n\nDash is running on http://127.0.0.1:8050/\n\nDash is running on http://127.0.0.1:8050/\n\nDash is running on http://127.0.0.1:8050/\n\nDash is running on http://127.0.0.1:8050/\n\nDash is running on http://127.0.0.1:8050/\n\nDash is running on http://127.0.0.1:8050/\n\nDash is running on http://127.0.0.1:8050/\n\nDash is running on http://127.0.0.1:8050/\n\nDash is running on http://127.0.0.1:8050/\n\nDash is running on http://127.0.0.1:8050/\n\nDash is running on http://127.0.0.1:8050/\n\nDash is running on http://127.0.0.1:8050/\n\nDash is running on http://127.0.0.1:8050/\n\nDash is running on http://127.0.0.1:8050/\n\nDash is running on http://127.0.0.1:8050/\n\nDash is running on http://127.0.0.1:8050/\n\nDash is running on http://127.0.0.1:8050/\n\nDash is running on http://127.0.0.1:8050/\n\nDash is running on http://127.0.0.1:8050/\n\nDash is running on http://127.0.0.1:8050/\n\nDash is running on http://127.0.0.1:8050/\n\nDash is running on http://127.0.0.1:8050/\n\nDash is running on http://127.0.0.1:8050/\n\nDash is running on http://127.0.0.1:8050/\n\nDash is running on http://127.0.0.1:8050/\n\nDash is running on http://127.0.0.1:8050/\n\n * Serving Flask app \"__main__\" (lazy loading)\n * Environment: production\n   WARNING: This is a development server. Do not use it in a production deployment.\n   Use a production WSGI server instead.\n * Debug mode: off\n"
                },
                {
                    "name": "stderr",
                    "output_type": "stream",
                    "text": " * Running on http://127.0.0.1:8050/ (Press CTRL+C to quit)\n127.0.0.1 - - [21/Jan/2022 21:38:27] \"\u001b[37mGET / HTTP/1.1\u001b[0m\" 200 -\n127.0.0.1 - - [21/Jan/2022 21:38:27] \"\u001b[37mGET /_dash-dependencies HTTP/1.1\u001b[0m\" 200 -\n127.0.0.1 - - [21/Jan/2022 21:38:27] \"\u001b[37mGET /_dash-layout HTTP/1.1\u001b[0m\" 200 -\n127.0.0.1 - - [21/Jan/2022 21:38:28] \"\u001b[37mGET /_dash-component-suites/dash_core_components/async-graph.js HTTP/1.1\u001b[0m\" 200 -\n127.0.0.1 - - [21/Jan/2022 21:38:28] \"\u001b[37mGET /_dash-component-suites/dash_core_components/async-dropdown.js HTTP/1.1\u001b[0m\" 200 -\n127.0.0.1 - - [21/Jan/2022 21:38:28] \"\u001b[37mGET /_dash-component-suites/dash_core_components/async-slider.js HTTP/1.1\u001b[0m\" 200 -\n127.0.0.1 - - [21/Jan/2022 21:38:28] \"\u001b[37mPOST /_dash-update-component HTTP/1.1\u001b[0m\" 200 -\n127.0.0.1 - - [21/Jan/2022 21:38:28] \"\u001b[37mPOST /_dash-update-component HTTP/1.1\u001b[0m\" 200 -\n127.0.0.1 - - [21/Jan/2022 21:38:28] \"\u001b[37mGET /_dash-component-suites/dash_core_components/async-plotlyjs.js HTTP/1.1\u001b[0m\" 200 -\n127.0.0.1 - - [21/Jan/2022 21:39:27] \"\u001b[37mPOST /_dash-update-component HTTP/1.1\u001b[0m\" 200 -\n127.0.0.1 - - [21/Jan/2022 21:39:31] \"\u001b[37mPOST /_dash-update-component HTTP/1.1\u001b[0m\" 200 -\n127.0.0.1 - - [21/Jan/2022 21:39:35] \"\u001b[37mPOST /_dash-update-component HTTP/1.1\u001b[0m\" 200 -\n127.0.0.1 - - [21/Jan/2022 21:39:39] \"\u001b[37mPOST /_dash-update-component HTTP/1.1\u001b[0m\" 200 -\n127.0.0.1 - - [21/Jan/2022 21:39:43] \"\u001b[37mPOST /_dash-update-component HTTP/1.1\u001b[0m\" 200 -\n<ipython-input-61-b68572156830>:102: UserWarning:\n\nBoolean Series key will be reindexed to match DataFrame index.\n\n127.0.0.1 - - [21/Jan/2022 21:39:55] \"\u001b[37mPOST /_dash-update-component HTTP/1.1\u001b[0m\" 200 -\n127.0.0.1 - - [21/Jan/2022 21:39:55] \"\u001b[37mPOST /_dash-update-component HTTP/1.1\u001b[0m\" 200 -\n<ipython-input-61-b68572156830>:102: UserWarning:\n\nBoolean Series key will be reindexed to match DataFrame index.\n\n127.0.0.1 - - [21/Jan/2022 21:40:03] \"\u001b[37mPOST /_dash-update-component HTTP/1.1\u001b[0m\" 200 -\n127.0.0.1 - - [21/Jan/2022 21:40:03] \"\u001b[37mPOST /_dash-update-component HTTP/1.1\u001b[0m\" 200 -\n127.0.0.1 - - [21/Jan/2022 21:40:05] \"\u001b[37mPOST /_dash-update-component HTTP/1.1\u001b[0m\" 200 -\n<ipython-input-61-b68572156830>:102: UserWarning:\n\nBoolean Series key will be reindexed to match DataFrame index.\n\n127.0.0.1 - - [21/Jan/2022 21:40:05] \"\u001b[37mPOST /_dash-update-component HTTP/1.1\u001b[0m\" 200 -\n127.0.0.1 - - [21/Jan/2022 21:40:10] \"\u001b[37mPOST /_dash-update-component HTTP/1.1\u001b[0m\" 200 -\n<ipython-input-61-b68572156830>:102: UserWarning:\n\nBoolean Series key will be reindexed to match DataFrame index.\n\n127.0.0.1 - - [21/Jan/2022 21:40:10] \"\u001b[37mPOST /_dash-update-component HTTP/1.1\u001b[0m\" 200 -\n<ipython-input-61-b68572156830>:102: UserWarning:\n\nBoolean Series key will be reindexed to match DataFrame index.\n\n127.0.0.1 - - [21/Jan/2022 21:40:42] \"\u001b[37mPOST /_dash-update-component HTTP/1.1\u001b[0m\" 200 -\n<ipython-input-61-b68572156830>:102: UserWarning:\n\nBoolean Series key will be reindexed to match DataFrame index.\n\n127.0.0.1 - - [21/Jan/2022 21:40:44] \"\u001b[37mPOST /_dash-update-component HTTP/1.1\u001b[0m\" 200 -\n<ipython-input-61-b68572156830>:102: UserWarning:\n\nBoolean Series key will be reindexed to match DataFrame index.\n\n127.0.0.1 - - [21/Jan/2022 21:41:36] \"\u001b[37mPOST /_dash-update-component HTTP/1.1\u001b[0m\" 200 -\n127.0.0.1 - - [21/Jan/2022 21:55:07] \"\u001b[37mGET / HTTP/1.1\u001b[0m\" 200 -\n127.0.0.1 - - [21/Jan/2022 21:55:07] \"\u001b[37mGET /_dash-layout HTTP/1.1\u001b[0m\" 200 -\n127.0.0.1 - - [21/Jan/2022 21:55:07] \"\u001b[37mGET /_dash-dependencies HTTP/1.1\u001b[0m\" 200 -\n127.0.0.1 - - [21/Jan/2022 21:55:07] \"\u001b[37mGET /_dash-component-suites/dash_core_components/async-graph.js HTTP/1.1\u001b[0m\" 200 -\n127.0.0.1 - - [21/Jan/2022 21:55:07] \"\u001b[37mGET /_dash-component-suites/dash_core_components/async-dropdown.js HTTP/1.1\u001b[0m\" 200 -\n127.0.0.1 - - [21/Jan/2022 21:55:07] \"\u001b[37mGET /_dash-component-suites/dash_core_components/async-slider.js HTTP/1.1\u001b[0m\" 200 -\n127.0.0.1 - - [21/Jan/2022 21:55:07] \"\u001b[37mPOST /_dash-update-component HTTP/1.1\u001b[0m\" 200 -\n127.0.0.1 - - [21/Jan/2022 21:55:07] \"\u001b[37mPOST /_dash-update-component HTTP/1.1\u001b[0m\" 200 -\n127.0.0.1 - - [21/Jan/2022 21:55:08] \"\u001b[37mGET /_dash-component-suites/dash_core_components/async-plotlyjs.js HTTP/1.1\u001b[0m\" 200 -\n"
                }
            ],
            "source": "# Import required libraries\nimport pandas as pd\nimport dash\nimport dash_html_components as html\nimport dash_core_components as dcc\nfrom dash.dependencies import Input, Output\nimport plotly.express as px\n\n# Read the airline data into pandas dataframe\nspacex_df = pd.read_csv(\"https://cf-courses-data.s3.us.cloud-object-storage.appdomain.cloud/IBM-DS0321EN-SkillsNetwork/datasets/spacex_launch_dash.csv\")\nmax_payload = spacex_df['Payload Mass (kg)'].max()\nmin_payload = spacex_df['Payload Mass (kg)'].min()\n\n# Create a dash application\napp = dash.Dash(__name__)\n\n# Create an app layout\napp.layout = html.Div(children=[html.H1('SpaceX Launch Records Dashboard',\n                                        style={'textAlign': 'center', 'color': '#503D36',\n                                               'font-size': 40}),\n                                # TASK 1: Add a dropdown list to enable Launch Site selection\n                                # The default select value is for ALL sites\n                                dcc.Dropdown(\n                                    id='site-dropdown',\n                                    options=[{'value': x, 'label': x}\n                                            for x in ['All Sites','CCAFS LC-40','VAFB SLC-4E','KSC LC-39A','CCAFS SLC-40']],\n                                    value = 'All Sites',\n                                    placeholder = \"Select a launch site here\",\n                                    searchable = True),\n                                html.Br(),\n\n                                # TASK 2: Add a pie chart to show the total successful launches count for all sites\n                                # If a specific launch site was selected, show the Success vs. Failed counts for the site\n                                html.Div(dcc.Graph(id='success-pie-chart')),\n                                html.Br(),\n\n                                html.P(\"Payload range (Kg):\"),\n                                # TASK 3: Add a slider to select payload range\n                                #dcc.RangeSlider(id='payload-slider',...)\n                                dcc.RangeSlider(\n                                    id='payload-slider',\n                                    min=0, \n                                    max=10000, \n                                    step=1000,\n                                    marks={0: '0',\n                                           2500: '2,500',\n                                           5000: '5,000',\n                                           7500: '7,500',\n                                           10000: '10,000'},\n                                    value=[min_payload, max_payload]),\n\n                                # TASK 4: Add a scatter chart to show the correlation between payload and launch success\n                                html.Div(dcc.Graph(id='success-payload-scatter-chart')),\n                                ])\n\n# TASK 2:\n# Add a callback function for `site-dropdown` as input, `success-pie-chart` as output\n@app.callback(Output(component_id='success-pie-chart', component_property='figure'),\n              Input(component_id='site-dropdown', component_property='value'))\ndef get_pie_chart(entered_site):\n    filtered_df = spacex_df\n    if entered_site == 'All Sites':\n        fig = px.pie(spacex_df, values='class', \n        names='Launch Site', \n        title='Success of all launch Sites')\n        return fig\n    else:\n        # return the outcomes piechart for a selected site\n        filtered_df = spacex_df[spacex_df['Launch Site'] == entered_site]\n        filtered_df = filtered_df['class'].value_counts().to_frame().reset_index()\n        fig = px.pie(filtered_df, values = 'class', \n        names ='index', \n        title='Success Breakdown of Launch Site: ' + str(entered_site),\n        color = 'index',\n        #plotly flips the color depending on the RATIO, and it often changes from chart to chart\n        #so I added a discrete color map\n        color_discrete_map={0:'#7a2048',\n                            1:'#408ec6',})\n        return fig\n\n# TASK 4:\n# Add a callback function for `site-dropdown` and `payload-slider` as inputs, `success-payload-scatter-chart` as output\n@app.callback(Output(component_id='success-payload-scatter-chart', component_property='figure'),\n              [Input(component_id='site-dropdown', component_property='value'),\n               Input(component_id='payload-slider', component_property='value')])\n\ndef update_scatter(entered_site, slider_range):\n    scatter_df = spacex_df\n    low, high = slider_range\n    mask = (scatter_df['Payload Mass (kg)'] > low) & (scatter_df['Payload Mass (kg)'] < high)\n\n    if entered_site == 'All Sites':\n        fig = px.scatter(\n              scatter_df[mask], x='Payload Mass (kg)', y='class',\n              color='Booster Version Category',\n              hover_data=['Booster Version'],\n              title = 'Scatter Plot(Payload Mass (kg) & Success of All Launch Sites)',\n              marginal_x='histogram',\n              marginal_y='histogram')       \n    else:\n        fig = px.scatter(\n            scatter_df[mask][scatter_df['Launch Site'] == entered_site],\n            x='Payload Mass (kg)', y='class',\n            color='Booster Version Category',\n            hover_data =['Booster Version'],\n            title = 'Scatter Plot(Payload Mass (kg) & Success of Chosen Site: ' + str(entered_site),\n            marginal_x='histogram',\n            marginal_y='histogram')\n    \n    return fig\n        \n# Run the app\nif __name__ == '__main__':\n    app.run_server()\n"
        },
        {
            "cell_type": "code",
            "execution_count": null,
            "metadata": {},
            "outputs": [],
            "source": ""
        }
    ],
    "metadata": {
        "kernelspec": {
            "display_name": "Python 3",
            "language": "python",
            "name": "python3"
        },
        "language_info": {
            "codemirror_mode": {
                "name": "ipython",
                "version": 3
            },
            "file_extension": ".py",
            "mimetype": "text/x-python",
            "name": "python",
            "nbconvert_exporter": "python",
            "pygments_lexer": "ipython3",
            "version": "3.8.5"
        }
    },
    "nbformat": 4,
    "nbformat_minor": 4
}